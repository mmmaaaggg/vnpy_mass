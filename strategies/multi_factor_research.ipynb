{
 "cells": [
  {
   "cell_type": "code",
   "execution_count": 1,
   "metadata": {},
   "outputs": [
    {
     "name": "stderr",
     "output_type": "stream",
     "text": [
      "C:\\Users\\zerenhe-lqb\\AppData\\Roaming\\Python\\Python37\\site-packages\\ffn\\core.py:27: MatplotlibDeprecationWarning: The 'warn' parameter of use() is deprecated since Matplotlib 3.1 and will be removed in 3.3.  If any parameter follows 'warn', they should be pass as keyword, not positionally.\n",
      "  matplotlib.use('agg', warn=False)\n",
      "2020-09-18 09:47:41,639 DEBUG peewee peewee.py.execute_sql:3087|('SELECT table_name FROM information_schema.tables WHERE table_schema = DATABASE() AND table_type != %s ORDER BY table_name', ('VIEW',))\n",
      "2020-09-18 09:47:41,664 DEBUG peewee peewee.py.execute_sql:3087|('SELECT table_name FROM information_schema.tables WHERE table_schema = DATABASE() AND table_type != %s ORDER BY table_name', ('VIEW',))\n"
     ]
    }
   ],
   "source": [
    "# !pip install ibats_common\n",
    "import numpy as np\n",
    "import pandas as pd\n",
    "import matplotlib.pyplot as plt\n",
    "from sklearn import ensemble, preprocessing, metrics\n",
    "from ibats_common.backend.factor import get_factor\n",
    "from sklearn.model_selection import train_test_split, cross_val_score\n",
    "from datetime import datetime\n",
    "from vnpy.trader.constant import Exchange, Interval\n",
    "from vnpy.trader.database import database_manager\n",
    "import ffn  # NOQA\n"
   ]
  },
  {
   "cell_type": "code",
   "execution_count": 2,
   "metadata": {},
   "outputs": [],
   "source": [
    "\n",
    "\n",
    "def plot_bar(symbol=\"RB2009\", exchange=Exchange.SHFE, interval=Interval.MINUTE,\n",
    "             start=datetime(2019, 4, 1), end=datetime(2020, 10, 30),\n",
    "             label_count=15, fig_size=(16, 6), label_rotation=15, time_format='%Y-%m-%d %H:%M:%S'):\n",
    "    # Load history data\n",
    "    bars = database_manager.load_bar_data(\n",
    "        symbol=symbol, exchange=exchange,\n",
    "        interval=interval, start=start, end=end)\n",
    "\n",
    "    # Generate x, y\n",
    "    x = [bar.datetime for bar in bars]\n",
    "    y = [bar.close_price for bar in bars]\n",
    "\n",
    "    # Show plot\n",
    "    y_len = len(y)\n",
    "    xticks = list(range(0, y_len, y_len // label_count))\n",
    "    xlabels = [x[_].strftime(time_format) for _ in xticks]\n",
    "    fig, ax = plt.subplots(figsize=fig_size)\n",
    "    ax.set_xticks(xticks)\n",
    "    ax.set_xticklabels(xlabels, rotation=label_rotation)\n",
    "    plt.plot(y)\n",
    "    plt.title(f\"{symbol} {interval.value} {min(x).strftime(time_format)}~{max(x).strftime(time_format)}\")\n",
    "    plt.legend([symbol])\n",
    "    plt.show()"
   ]
  },
  {
   "cell_type": "code",
   "execution_count": 3,
   "metadata": {},
   "outputs": [
    {
     "name": "stderr",
     "output_type": "stream",
     "text": [
      "2020-09-18 09:48:12,887 DEBUG peewee peewee.py.execute_sql:3087|('SELECT `t1`.`id`, `t1`.`symbol`, `t1`.`exchange`, `t1`.`datetime`, `t1`.`interval`, `t1`.`volume`, `t1`.`open_interest`, `t1`.`open_price`, `t1`.`high_price`, `t1`.`low_price`, `t1`.`close_price` FROM `dbbardata` AS `t1` WHERE (((((`t1`.`symbol` = %s) AND (`t1`.`exchange` = %s)) AND (`t1`.`interval` = %s)) AND (`t1`.`datetime` >= %s)) AND (`t1`.`datetime` <= %s)) ORDER BY `t1`.`datetime`', ['RB2009', 'SHFE', '1m', datetime.datetime(2019, 4, 1, 0, 0), datetime.datetime(2020, 10, 30, 0, 0)])\n",
      "d:\\ide\\vnstudio\\lib\\site-packages\\ipykernel_launcher.py:23: UserWarning: Matplotlib is currently using agg, which is a non-GUI backend, so cannot show the figure.\n"
     ]
    }
   ],
   "source": [
    "plot_bar(symbol=\"RB2009\")"
   ]
  },
  {
   "cell_type": "code",
   "execution_count": 4,
   "metadata": {},
   "outputs": [],
   "source": [
    "from ibats_common.backend.factor import get_factor\n",
    "\n",
    "BAR_ATTRIBUTES = [\n",
    "    'open_price', 'high_price', 'low_price', 'close_price',\n",
    "    'datetime', 'volume',\n",
    "]\n",
    "\n",
    "def generate_factors(hist_bar_list):\n",
    "    \"\"\"整理缓存数据，生成相应的因子\"\"\"\n",
    "    df = pd.DataFrame(\n",
    "        [{key: getattr(_, key) for key in BAR_ATTRIBUTES}\n",
    "         for _ in hist_bar_list]).set_index('datetime')\n",
    "    df.index = pd.to_datetime(df.index)\n",
    "\n",
    "    # 生成因子\n",
    "    factor_df = get_factor(\n",
    "        df,\n",
    "        ohlcav_col_name_list=['open_price', 'high_price', 'low_price', 'close_price', None, 'volume'],\n",
    "        dropna=False\n",
    "    )\n",
    "    return df, factor_df\n"
   ]
  },
  {
   "cell_type": "markdown",
   "metadata": {},
   "source": [
    "获取数据"
   ]
  },
  {
   "cell_type": "code",
   "execution_count": 5,
   "metadata": {},
   "outputs": [
    {
     "name": "stderr",
     "output_type": "stream",
     "text": [
      "2020-09-17 17:09:10,111 DEBUG peewee peewee.py.execute_sql:3087|('SELECT `t1`.`id`, `t1`.`symbol`, `t1`.`exchange`, `t1`.`datetime`, `t1`.`interval`, `t1`.`volume`, `t1`.`open_interest`, `t1`.`open_price`, `t1`.`high_price`, `t1`.`low_price`, `t1`.`close_price` FROM `dbbardata` AS `t1` WHERE (((((`t1`.`symbol` = %s) AND (`t1`.`exchange` = %s)) AND (`t1`.`interval` = %s)) AND (`t1`.`datetime` >= %s)) AND (`t1`.`datetime` <= %s)) ORDER BY `t1`.`datetime`', ['RB2009', 'SHFE', '1m', datetime.datetime(2019, 4, 1, 0, 0), datetime.datetime(2020, 10, 30, 0, 0)])\n"
     ]
    }
   ],
   "source": [
    "symbol=\"RB2009\"\n",
    "exchange=Exchange.SHFE\n",
    "interval=Interval.MINUTE\n",
    "start=datetime(2019, 4, 1)\n",
    "end=datetime(2020, 10, 30)\n",
    "bars = database_manager.load_bar_data(\n",
    "    symbol=symbol, exchange=exchange,\n",
    "    interval=interval, start=start, end=end)\n"
   ]
  },
  {
   "cell_type": "code",
   "execution_count": 6,
   "metadata": {
    "scrolled": true
   },
   "outputs": [
    {
     "data": {
      "text/plain": [
       "(BarData(gateway_name='DB', symbol='RB2009', exchange=<Exchange.SHFE: 'SHFE'>, datetime=datetime.datetime(2020, 1, 2, 9, 0, tzinfo=<DstTzInfo 'Asia/Shanghai' LMT+8:06:00 STD>), interval=<Interval.MINUTE: '1m'>, volume=3.0, open_interest=2149.0, open_price=3488.0, high_price=3488.0, low_price=3488.0, close_price=3488.0),\n",
       " datetime.datetime(2020, 1, 2, 9, 0, tzinfo=<DstTzInfo 'Asia/Shanghai' LMT+8:06:00 STD>),\n",
       " datetime.datetime(2020, 6, 15, 15, 0, tzinfo=<DstTzInfo 'Asia/Shanghai' LMT+8:06:00 STD>))"
      ]
     },
     "execution_count": 6,
     "metadata": {},
     "output_type": "execute_result"
    }
   ],
   "source": [
    "bars[0], bars[0].datetime, bars[-1].datetime"
   ]
  },
  {
   "cell_type": "markdown",
   "metadata": {},
   "source": [
    "构建因子矩阵"
   ]
  },
  {
   "cell_type": "code",
   "execution_count": 7,
   "metadata": {},
   "outputs": [
    {
     "data": {
      "text/plain": [
       "(29047, (29047, 5), (29047, 111))"
      ]
     },
     "execution_count": 7,
     "metadata": {},
     "output_type": "execute_result"
    }
   ],
   "source": [
    "hist_bar_df, factor_df = generate_factors(bars)\n",
    "len(bars), hist_bar_df.shape, factor_df.shape"
   ]
  },
  {
   "cell_type": "code",
   "execution_count": 8,
   "metadata": {},
   "outputs": [
    {
     "name": "stderr",
     "output_type": "stream",
     "text": [
      "d:\\ide\\vnstudio\\lib\\site-packages\\ipykernel_launcher.py:2: UserWarning: Matplotlib is currently using agg, which is a non-GUI backend, so cannot show the figure.\n",
      "  \n"
     ]
    }
   ],
   "source": [
    "hist_bar_df['close_price'].plot()\n",
    "plt.show()"
   ]
  },
  {
   "cell_type": "markdown",
   "metadata": {},
   "source": [
    "构建y数据"
   ]
  },
  {
   "cell_type": "code",
   "execution_count": 9,
   "metadata": {},
   "outputs": [],
   "source": [
    "y_s = hist_bar_df['close_price'].rolling(\n",
    "    window=5).apply(lambda x: x.calc_calmar_ratio())"
   ]
  },
  {
   "cell_type": "code",
   "execution_count": 10,
   "metadata": {},
   "outputs": [
    {
     "data": {
      "text/plain": [
       "(13387, 11565)"
      ]
     },
     "execution_count": 10,
     "metadata": {},
     "output_type": "execute_result"
    }
   ],
   "source": [
    "np.sum(y_s<=0), np.sum(y_s>0)"
   ]
  },
  {
   "cell_type": "markdown",
   "metadata": {},
   "source": [
    "数据整理，剔除无效数据"
   ]
  },
  {
   "cell_type": "code",
   "execution_count": 11,
   "metadata": {},
   "outputs": [],
   "source": [
    "# 剔除无效数据\n",
    "is_available = ~(np.isinf(y_s) | np.isnan(y_s) | np.any(np.isnan(factor_df), axis=1))\n",
    "x_arr = hist_bar_df[is_available].to_numpy()\n",
    "y_arr = y_s[is_available]\n",
    "# 生成 -1 1 分类结果\n",
    "y_arr[y_arr > 0] = 1\n",
    "y_arr[y_arr <= 0] = -1\n",
    "x_train_arr, x_test_arr, y_train_arr, y_test_arr = train_test_split(\n",
    "    x_arr, y_arr, test_size=0.3)"
   ]
  },
  {
   "cell_type": "code",
   "execution_count": 12,
   "metadata": {},
   "outputs": [],
   "source": [
    "# 剔除无效数据\n",
    "is_available = ~(np.isinf(y_s) | np.isnan(y_s) | np.any(np.isnan(factor_df), axis=1))\n",
    "x_arr = factor_df[is_available].to_numpy()\n",
    "y_arr = y_s[is_available]\n",
    "# 生成 -1 1 分类结果\n",
    "y_arr[y_arr > 0] = 1\n",
    "y_arr[y_arr <= 0] = -1\n",
    "x_train_arr, x_test_arr, y_train_arr, y_test_arr = train_test_split(\n",
    "    x_arr, y_arr, test_size=0.3)"
   ]
  },
  {
   "cell_type": "code",
   "execution_count": 13,
   "metadata": {},
   "outputs": [
    {
     "data": {
      "text/plain": [
       "((19670, 111), (19670,), 13333, 6337)"
      ]
     },
     "execution_count": 13,
     "metadata": {},
     "output_type": "execute_result"
    }
   ],
   "source": [
    "x_arr.shape, y_arr.shape, np.sum(y_arr==-1), np.sum(y_arr==1)"
   ]
  },
  {
   "cell_type": "markdown",
   "metadata": {},
   "source": [
    "创建分类器"
   ]
  },
  {
   "cell_type": "code",
   "execution_count": 38,
   "metadata": {},
   "outputs": [],
   "source": [
    "# Train classifier\n",
    "# 弱学习器的最大迭代次数，\n",
    "# n_estimators太小，容易欠拟合，n_estimators太大，又容易过拟合，\n",
    "# 一般选择一个适中的数值。默认是50。\n",
    "# 在实际调参的过程中，我们常常将n_estimators和learning_rate一起考虑。\n",
    "n_estimators = 150\n",
    "# 对于同样的训练集拟合效果，\n",
    "# 较小的ν意味着我们需要更多的弱学习器的迭代次数。\n",
    "# 通常用步长和迭代最大次数一起来决定算法的拟合效果。\n",
    "# 所以这两个参数n_estimators和learning_rate要一起调参。\n",
    "# 一般来说，可以从一个小一点的ν开始调参，默认是1。\n",
    "learning_rate = 1.0\n",
    "scaler = preprocessing.MinMaxScaler()\n",
    "clf = ensemble.AdaBoostClassifier(\n",
    "    n_estimators=n_estimators, learning_rate=learning_rate)"
   ]
  },
  {
   "cell_type": "markdown",
   "metadata": {},
   "source": [
    "开始训练"
   ]
  },
  {
   "cell_type": "code",
   "execution_count": 59,
   "metadata": {},
   "outputs": [
    {
     "name": "stdout",
     "output_type": "stream",
     "text": [
      "Accuracy on train set = 67.89%\n",
      "Accuracy on test set = 68.39%\n",
      "Log-loss on test set = 69.18985\n"
     ]
    }
   ],
   "source": [
    "x_train_trans_arr = scaler.fit_transform(x_train_arr)\n",
    "# print 'type(X_train_trans),X_train_trans[:5,:]\\n%s\\n%s'%(type(X_train_trans),X_train_trans[:5,:])\n",
    "# print 'type(Y_train),Y_train.head()\\n%s\\n%s'%(type(Y_train),Y_train.head())\n",
    "clf.fit(x_train_trans_arr, y_train_arr)\n",
    "# 交叉检验\n",
    "y_pred = clf.predict(x_train_trans_arr)\n",
    "print('Accuracy on train set = {:.2f}%'.format(metrics.accuracy_score(y_train_arr, y_pred) * 100))\n",
    "x_test_trans = scaler.transform(x_test_arr)\n",
    "y_pred = clf.predict(x_test_trans)\n",
    "y_pred_prob = clf.predict_proba(x_test_trans)\n",
    "print('Accuracy on test set = {:.2f}%'.format(metrics.accuracy_score(y_test_arr, y_pred) * 100))\n",
    "print('Log-loss on test set = {:.5f}'.format(metrics.log_loss(y_test_arr, y_pred_prob) * 100))\n"
   ]
  },
  {
   "cell_type": "markdown",
   "metadata": {},
   "source": [
    "开始交叉验证训练"
   ]
  },
  {
   "cell_type": "code",
   "execution_count": 66,
   "metadata": {},
   "outputs": [
    {
     "name": "stdout",
     "output_type": "stream",
     "text": [
      "n= 50 rate=0.50 mean_res=66.13, std_res=3.16177, result=[67.46071972 67.51140395 59.8225602  67.85804816 68.01013942]\n",
      "n= 50 rate=0.10 mean_res=67.86, std_res=0.00399, result=[67.86619361 67.86619361 67.85804816 67.85804816 67.85804816]\n",
      "n= 50 rate=0.01 mean_res=67.86, std_res=0.00399, result=[67.86619361 67.86619361 67.85804816 67.85804816 67.85804816]\n",
      "n=100 rate=0.50 mean_res=65.87, std_res=3.61853, result=[67.18195641 67.58743031 58.65652725 67.83269962 68.08618504]\n",
      "n=100 rate=0.10 mean_res=67.86, std_res=0.00399, result=[67.86619361 67.86619361 67.85804816 67.85804816 67.85804816]\n",
      "n=100 rate=0.01 mean_res=67.86, std_res=0.00399, result=[67.86619361 67.86619361 67.85804816 67.85804816 67.85804816]\n",
      "n=150 rate=0.50 mean_res=65.76, std_res=3.64601, result=[67.18195641 67.20729853 58.50443599 67.83269962 68.08618504]\n",
      "n=150 rate=0.10 mean_res=67.28, std_res=1.10460, result=[67.81550938 67.79016726 65.06970849 67.85804816 67.85804816]\n",
      "n=150 rate=0.01 mean_res=67.86, std_res=0.00399, result=[67.86619361 67.86619361 67.85804816 67.85804816 67.85804816]\n",
      "n=200 rate=0.50 mean_res=65.42, std_res=4.29497, result=[67.18195641 67.15661429 56.85678074 67.85804816 68.03548796]\n",
      "n=200 rate=0.10 mean_res=67.21, std_res=1.07533, result=[67.53674607 67.7141409  65.06970849 67.85804816 67.85804816]\n",
      "n=200 rate=0.01 mean_res=67.86, std_res=0.00399, result=[67.86619361 67.86619361 67.85804816 67.85804816 67.85804816]\n",
      "n=250 rate=0.50 mean_res=65.11, std_res=4.45654, result=[67.18195641 66.16827167 56.2991128  67.85804816 68.0608365 ]\n",
      "n=250 rate=0.10 mean_res=66.99, std_res=1.43598, result=[67.48606183 67.61277243 64.13181242 67.85804816 67.85804816]\n",
      "n=250 rate=0.01 mean_res=67.86, std_res=0.00399, result=[67.86619361 67.86619361 67.85804816 67.85804816 67.85804816]\n",
      "n=300 rate=0.50 mean_res=65.11, std_res=4.46993, result=[67.18195641 66.16827167 56.27376426 67.85804816 68.08618504]\n",
      "n=300 rate=0.10 mean_res=66.62, std_res=2.09171, result=[67.33400912 67.61277243 62.45880862 67.85804816 67.85804816]\n",
      "n=300 rate=0.01 mean_res=67.86, std_res=0.00399, result=[67.86619361 67.86619361 67.85804816 67.85804816 67.85804816]\n"
     ]
    }
   ],
   "source": [
    "import itertools\n",
    "\n",
    "scaler = preprocessing.MinMaxScaler()\n",
    "x_trans_arr = scaler.fit_transform(x_arr)\n",
    "for n, rate in itertools.product(range(50, 301, 50), [0.5, 0.1, 0.01]):\n",
    "    estimator = ensemble.AdaBoostClassifier(\n",
    "    n_estimators=n, learning_rate=rate)\n",
    "    result = np.array(cross_val_score(estimator, x_trans_arr, y_arr)) * 100\n",
    "    print(f'n={n:3d} rate={rate:.2f} mean_res={np.mean(result):.2f}, std_res={np.std(result):.5f}, result={result}')"
   ]
  }
 ],
 "metadata": {
  "kernelspec": {
   "display_name": "Python 3",
   "language": "python",
   "name": "python3"
  },
  "language_info": {
   "codemirror_mode": {
    "name": "ipython",
    "version": 3
   },
   "file_extension": ".py",
   "mimetype": "text/x-python",
   "name": "python",
   "nbconvert_exporter": "python",
   "pygments_lexer": "ipython3",
   "version": "3.7.1"
  }
 },
 "nbformat": 4,
 "nbformat_minor": 2
}
